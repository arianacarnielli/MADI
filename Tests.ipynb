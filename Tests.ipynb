{
 "cells": [
  {
   "cell_type": "code",
   "execution_count": 2,
   "metadata": {},
   "outputs": [],
   "source": [
    "import importlib\n",
    "import grille"
   ]
  },
  {
   "cell_type": "code",
   "execution_count": 6,
   "metadata": {},
   "outputs": [
    {
     "data": {
      "text/plain": [
       "<module 'grille' from 'C:\\\\Users\\\\arian\\\\OneDrive\\\\Faculdade\\\\M2\\\\MADI\\\\Projet\\\\MADI\\\\grille.py'>"
      ]
     },
     "execution_count": 6,
     "metadata": {},
     "output_type": "execute_result"
    }
   ],
   "source": [
    "importlib.reload(grille)"
   ]
  },
  {
   "cell_type": "code",
   "execution_count": 7,
   "metadata": {},
   "outputs": [],
   "source": [
    "qtt = 15\n",
    "\n",
    "args_creation = {\"nb_lig\" : 10,\n",
    "        \"nb_col\" : 10,\n",
    "        \"couleurs\" : 4,\n",
    "        \"tab_cost\" : [1, 2, 3, 4],\n",
    "        \"p\" : 1,\n",
    "        \"proba_coul\" : None,\n",
    "        \"proba_mur\" : 0.1}\n",
    "\n",
    "list_grille_10_10 = [grille.Grille(**args_creation) for _ in range(qtt)]  "
   ]
  },
  {
   "cell_type": "code",
   "execution_count": 8,
   "metadata": {},
   "outputs": [],
   "source": [
    "args_tester = {\"repeat\" : 10,\n",
    "               \"gamma\" : 0.9,\n",
    "               \"M\" : 1000,\n",
    "               \"eps\" : 1e-5}"
   ]
  },
  {
   "cell_type": "code",
   "execution_count": 9,
   "metadata": {},
   "outputs": [],
   "source": [
    "temps_10_10 = grille.tester_temps(grille.pol_valeur, list_grille_10_10, **args_tester)"
   ]
  },
  {
   "cell_type": "code",
   "execution_count": 10,
   "metadata": {},
   "outputs": [
    {
     "data": {
      "text/plain": [
       "0.0584375"
      ]
     },
     "execution_count": 10,
     "metadata": {},
     "output_type": "execute_result"
    }
   ],
   "source": [
    "temps_10_10"
   ]
  },
  {
   "cell_type": "code",
   "execution_count": null,
   "metadata": {},
   "outputs": [],
   "source": []
  }
 ],
 "metadata": {
  "kernelspec": {
   "display_name": "Python 3",
   "language": "python",
   "name": "python3"
  },
  "language_info": {
   "codemirror_mode": {
    "name": "ipython",
    "version": 3
   },
   "file_extension": ".py",
   "mimetype": "text/x-python",
   "name": "python",
   "nbconvert_exporter": "python",
   "pygments_lexer": "ipython3",
   "version": "3.7.4"
  }
 },
 "nbformat": 4,
 "nbformat_minor": 4
}
