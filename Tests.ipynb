{
 "cells": [
  {
   "cell_type": "code",
   "execution_count": 95,
   "metadata": {},
   "outputs": [],
   "source": [
    "import importlib\n",
    "import numpy as np\n",
    "import projet_madi as pm\n",
    "from tqdm import tqdm"
   ]
  },
  {
   "cell_type": "code",
   "execution_count": 140,
   "metadata": {},
   "outputs": [
    {
     "data": {
      "text/plain": [
       "<module 'projet_madi' from 'C:\\\\Users\\\\arian\\\\OneDrive\\\\Faculdade\\\\M2\\\\MADI\\\\Projet\\\\git\\\\projet_madi.py'>"
      ]
     },
     "execution_count": 140,
     "metadata": {},
     "output_type": "execute_result"
    }
   ],
   "source": [
    "importlib.reload(pm)"
   ]
  },
  {
   "cell_type": "code",
   "execution_count": 3,
   "metadata": {},
   "outputs": [],
   "source": [
    "# Définition des couleurs\n",
    "red = \"#F70B42\"\n",
    "green = \"#1AD22C\"\n",
    "blue = \"#0B79F7\"\n",
    "gray = \"#E8E8EB\"\n",
    "orange = \"#FFAA11\"\n",
    "darkgray = \"#5E5E64\"\n",
    "white = \"#FFFFFF\"\n",
    "\n",
    "nb_color = 4\n",
    "color = [green, blue, red, darkgray]"
   ]
  },
  {
   "cell_type": "markdown",
   "metadata": {},
   "source": [
    "## 1. Générateur d'instances et visualisation"
   ]
  },
  {
   "cell_type": "code",
   "execution_count": 6,
   "metadata": {},
   "outputs": [],
   "source": [
    "# Création d'une grille\n",
    "width = 10\n",
    "height = 10\n",
    "cost = [1, 2, 3, 4]\n",
    "p = 1\n",
    "proba_mur = 0.1\n",
    "g = pm.Grille(height, width, tab_cost = cost, p = p, proba_mur = proba_mur)"
   ]
  },
  {
   "cell_type": "code",
   "execution_count": 11,
   "metadata": {},
   "outputs": [],
   "source": [
    "# Visualisation de la grille (tourner cette cellule ouvre une nouvelle fenêtre)\n",
    "v = pm.Visualisation(g, color)\n",
    "v.view(mode = \"couleur\")"
   ]
  },
  {
   "cell_type": "markdown",
   "metadata": {},
   "source": [
    "## 2. Recherche d'une trajectoire de moindre risque par itération de la valeur"
   ]
  },
  {
   "cell_type": "markdown",
   "metadata": {},
   "source": [
    "### Exemple de calcul de stratégie sur une grille"
   ]
  },
  {
   "cell_type": "markdown",
   "metadata": {},
   "source": [
    "On teste ici l'algorithme d'itération de la valeur implémenté dans la fonction `pol_valeur`. On peut varier les paramètres (`p`, `M`, taille de la grille et `gamma`) en modifiant la cellule ci-dessous."
   ]
  },
  {
   "cell_type": "code",
   "execution_count": 12,
   "metadata": {},
   "outputs": [],
   "source": [
    "width = 10\n",
    "height = 10\n",
    "p = 1\n",
    "gamma = 0.9\n",
    "M = 1000"
   ]
  },
  {
   "cell_type": "code",
   "execution_count": 13,
   "metadata": {},
   "outputs": [],
   "source": [
    "# Création et visualisation de la grille avant de calculer la politique optimale\n",
    "g = pm.Grille(height, width, tab_cost = cost, p = p, proba_mur = proba_mur)\n",
    "v = pm.Visualisation(g, color)\n",
    "v.view(mode = \"couleur\")"
   ]
  },
  {
   "cell_type": "code",
   "execution_count": 14,
   "metadata": {},
   "outputs": [
    {
     "name": "stdout",
     "output_type": "stream",
     "text": [
      "Nombre d'itérations : 19\n"
     ]
    }
   ],
   "source": [
    "# Calcul de la stratégie optimale par itération de la valeur\n",
    "strategy_valeur, nb_iter = pm.pol_valeur(g, gamma = gamma, M = M)\n",
    "print(\"Nombre d'itérations : {}\".format(nb_iter))"
   ]
  },
  {
   "cell_type": "code",
   "execution_count": 16,
   "metadata": {},
   "outputs": [],
   "source": [
    "# Affichage de la grille avec la stratégie\n",
    "v.view(mode = \"couleur\", strategy = strategy_valeur)"
   ]
  },
  {
   "cell_type": "code",
   "execution_count": 21,
   "metadata": {},
   "outputs": [
    {
     "name": "stdout",
     "output_type": "stream",
     "text": [
      "Nombre d'itérations : 28\n"
     ]
    }
   ],
   "source": [
    "# Nouveau calcul sur la même grille avec changement de la valeur de p\n",
    "p = 0.6\n",
    "g.p = p\n",
    "strategy_valeur, nb_iter = pm.pol_valeur(g, gamma = gamma, M = M)\n",
    "print(\"Nombre d'itérations : {}\".format(nb_iter))\n",
    "v.view(mode = \"couleur\", strategy = strategy_valeur)"
   ]
  },
  {
   "cell_type": "markdown",
   "metadata": {},
   "source": [
    "### Le cas d'une grille impossible"
   ]
  },
  {
   "cell_type": "markdown",
   "metadata": {},
   "source": [
    "On considère maintenant ce qui se passe s'il n'y a pas de chemin possible entre la case initiale et la case but. Pour cela, on prend la grille précédente et on crée un mur dans la case cible."
   ]
  },
  {
   "cell_type": "code",
   "execution_count": 31,
   "metadata": {},
   "outputs": [
    {
     "name": "stdout",
     "output_type": "stream",
     "text": [
      "Nombre d'itérations : 111\n"
     ]
    }
   ],
   "source": [
    "M = 1000 # On revient à la valeur de départ de M\n",
    "g.tab[-1, -1] = -1 # Mur sur la case cible\n",
    "strategy_valeur, nb_iter = pm.pol_valeur(g, gamma = gamma, M = M)\n",
    "print(\"Nombre d'itérations : {}\".format(nb_iter))\n",
    "v.view(mode = \"couleur\", strategy = strategy_valeur)"
   ]
  },
  {
   "cell_type": "markdown",
   "metadata": {},
   "source": [
    "### Effet du bonus $M$"
   ]
  },
  {
   "cell_type": "markdown",
   "metadata": {},
   "source": [
    "On considère ici l'impact de $M$ sur la résolution d'une grille. On a fixé une grille particulière dans cette section pour illustrer quelques phénomènes qui se passent en fonction de $M$."
   ]
  },
  {
   "cell_type": "code",
   "execution_count": 71,
   "metadata": {},
   "outputs": [],
   "source": [
    "g = pm.Grille(7, 7, tab_cost = [1, 2, 3, 4], p = 0.6, proba_mur = 0)\n",
    "g.tab[:, :] = 3\n",
    "g.tab[2, :] = 2\n",
    "g.tab[:, -3] = 2\n",
    "g.tab[1, :] = 1\n",
    "g.tab[:, -2] = 1\n",
    "g.tab[0, :] = 0\n",
    "g.tab[:, -1] = 0\n",
    "v = pm.Visualisation(g, color)\n",
    "v.view(mode = \"couleur\")"
   ]
  },
  {
   "cell_type": "code",
   "execution_count": 96,
   "metadata": {},
   "outputs": [
    {
     "name": "stdout",
     "output_type": "stream",
     "text": [
      "Nombre d'itérations : 19\n"
     ]
    }
   ],
   "source": [
    "M = 2\n",
    "gamma = 0.8\n",
    "strategy_valeur, nb_iter = pm.pol_valeur(g, gamma = gamma, M = M)\n",
    "print(\"Nombre d'itérations : {}\".format(nb_iter))\n",
    "v.view(mode = \"couleur\", strategy = strategy_valeur)"
   ]
  },
  {
   "cell_type": "markdown",
   "metadata": {},
   "source": [
    "### Temps d'exécution et nombre d'itérations de l'algorithme d'itération de la valeur"
   ]
  },
  {
   "cell_type": "code",
   "execution_count": 5,
   "metadata": {},
   "outputs": [
    {
     "name": "stderr",
     "output_type": "stream",
     "text": [
      "100%|██████████████████████████████████████████████████████████████████████████████████| 18/18 [20:56<00:00, 69.78s/it]\n"
     ]
    }
   ],
   "source": [
    "qtt = 50\n",
    "tab_cost = [1, 2, 3, 4]\n",
    "proba_mur = 0.1\n",
    "repeat = 10\n",
    "M = 1000\n",
    "\n",
    "dict_temps_iter = {(p, gamma, height, width): None \\\n",
    "              for p in [0.6, 1]\\\n",
    "              for gamma in [0.5, 0.7, 0.9]\\\n",
    "              for height, width in [(10, 10), (10, 15), (15, 20)]}\n",
    "\n",
    "dict_grilles = {}\n",
    "for height, width in [(10, 10), (10, 15), (15, 20)]:\n",
    "    dict_grilles[(height, width)] = []\n",
    "    for _ in range(qtt):\n",
    "        # Il faut que la création d'une grille avec une case but atteignable soit possible (proba_mur pas trop grand)\n",
    "        while True:\n",
    "            grille = pm.Grille(height, width, tab_cost, 1, None, proba_mur)\n",
    "            if grille.est_possible():\n",
    "                dict_grilles[(height, width)].append(grille)\n",
    "                break\n",
    "\n",
    "for k in tqdm(dict_temps_iter):\n",
    "    p, gamma, height, width = k\n",
    "    list_grille = dict_grilles[(height, width)]\n",
    "    for g in list_grille:\n",
    "        g.p = p\n",
    "    temps = pm.tester_temps(pm.pol_valeur, list_grille, repeat, gamma = gamma, M = M, mode = \"couleur\")\n",
    "    nb_iter = pm.tester_iterations(pm.pol_valeur, list_grille, gamma = gamma, M = M, mode = \"couleur\")\n",
    "    dict_temps_iter[k] = (temps, nb_iter)"
   ]
  },
  {
   "cell_type": "code",
   "execution_count": 6,
   "metadata": {},
   "outputs": [
    {
     "name": "stdout",
     "output_type": "stream",
     "text": [
      "(0.6, 0.5, 10, 10): 37.0 18.8\n",
      "(0.6, 0.5, 10, 15): 63.5 19.2\n",
      "(0.6, 0.5, 15, 20): 157.1 19.5\n",
      "(0.6, 0.7, 10, 10): 56.5 25.1\n",
      "(0.6, 0.7, 10, 15): 111.0 32.5\n",
      "(0.6, 0.7, 15, 20): 249.8 35.3\n",
      "(0.6, 0.9, 10, 10): 78.0 33.2\n",
      "(0.6, 0.9, 10, 15): 126.8 37.8\n",
      "(0.6, 0.9, 15, 20): 342.9 50.0\n",
      "(1, 0.5, 10, 10): 42.7 18.7\n",
      "(1, 0.5, 10, 15): 63.6 19.0\n",
      "(1, 0.5, 15, 20): 133.2 19.2\n",
      "(1, 0.7, 10, 10): 41.4 20.1\n",
      "(1, 0.7, 10, 15): 106.5 32.3\n",
      "(1, 0.7, 15, 20): 238.8 35.1\n",
      "(1, 0.9, 10, 10): 54.9 25.2\n",
      "(1, 0.9, 10, 15): 98.0 29.9\n",
      "(1, 0.9, 15, 20): 283.7 42.1\n"
     ]
    }
   ],
   "source": [
    "for k in dict_temps_iter:\n",
    "    temps, nb_iter = dict_temps_iter[k]\n",
    "    print(\"{}: {:.1f} {:.1f}\".format(k, temps*1000, nb_iter))"
   ]
  },
  {
   "cell_type": "markdown",
   "metadata": {},
   "source": [
    "### Étude de l'impact du coût"
   ]
  },
  {
   "cell_type": "markdown",
   "metadata": {},
   "source": [
    "On considère ici les variations du coût de chaque couleur, sous la forme de l'ajout d'une puissance $q$-ième à chaque coût et au bonus $M$ de la case but."
   ]
  },
  {
   "cell_type": "code",
   "execution_count": 115,
   "metadata": {},
   "outputs": [],
   "source": [
    "cost = [1, 2, 3, 4]\n",
    "p = 0.8\n",
    "width = 10\n",
    "height = 10\n",
    "proba_mur = 0.1\n",
    "\n",
    "# Création et visualisation de la grille\n",
    "g = pm.Grille(height, width, tab_cost = cost, p = p, proba_mur = proba_mur)\n",
    "v = pm.Visualisation(g, color)\n",
    "v.view(mode = \"couleur\")"
   ]
  },
  {
   "cell_type": "code",
   "execution_count": 147,
   "metadata": {},
   "outputs": [
    {
     "name": "stdout",
     "output_type": "stream",
     "text": [
      "Nombre d'itérations : 27\n"
     ]
    }
   ],
   "source": [
    "M = 4\n",
    "gamma = 0.9\n",
    "q = 10\n",
    "g.tab_cost = [c**q for c in cost]\n",
    "strategy_valeur, nb_iter = pm.pol_valeur(g, gamma = gamma, M = M**q)\n",
    "print(\"Nombre d'itérations : {}\".format(nb_iter))\n",
    "v.view(mode = \"couleur\", strategy = strategy_valeur)"
   ]
  },
  {
   "cell_type": "markdown",
   "metadata": {},
   "source": [
    "### Modélisation et résolution avec un autre critère de coût"
   ]
  },
  {
   "cell_type": "markdown",
   "metadata": {},
   "source": [
    "Comme décrit dans le rapport, on considère ici que `tab_cost` vaut `[1, C, C**2, C**3]` avec une constante `C` égale à la quantité de cases de la grille."
   ]
  },
  {
   "cell_type": "code",
   "execution_count": 156,
   "metadata": {},
   "outputs": [],
   "source": [
    "p = 0.8\n",
    "width = 15\n",
    "height = 10\n",
    "proba_mur = 0.1\n",
    "C = width*height\n",
    "cost = [1, C, C**2, C**3]\n",
    "\n",
    "# Création et visualisation de la grille\n",
    "g = pm.Grille(height, width, tab_cost = cost, p = p, proba_mur = proba_mur)\n",
    "v = pm.Visualisation(g, color)\n",
    "v.view(mode = \"couleur\")"
   ]
  },
  {
   "cell_type": "code",
   "execution_count": 158,
   "metadata": {},
   "outputs": [
    {
     "name": "stdout",
     "output_type": "stream",
     "text": [
      "Nombre d'itérations : 144\n"
     ]
    }
   ],
   "source": [
    "M = C**2\n",
    "gamma = 0.999\n",
    "strategy_valeur, nb_iter = pm.pol_valeur(g, gamma = gamma, M = M)\n",
    "print(\"Nombre d'itérations : {}\".format(nb_iter))\n",
    "v.view(mode = \"couleur\", strategy = strategy_valeur)"
   ]
  },
  {
   "cell_type": "markdown",
   "metadata": {},
   "source": [
    "## 3. Recherche d'une trajectoire de moindre risque par programmation linéaire"
   ]
  },
  {
   "cell_type": "markdown",
   "metadata": {},
   "source": [
    "### Exemple de calcul de stratégie sur une grille"
   ]
  },
  {
   "cell_type": "markdown",
   "metadata": {},
   "source": [
    "On teste ici les algorithmes de programmation linéaire implémentés dans les fonctions `pol_pl_mixte` et `pol_pl_pure`. On peut varier les paramètres (`p`, `M` et `gamma`) en modifiant la cellule ci-dessous. On fixe la taille de la grille à $10 \\times 15$ dans cette section."
   ]
  },
  {
   "cell_type": "code",
   "execution_count": 24,
   "metadata": {},
   "outputs": [],
   "source": [
    "p = 1\n",
    "gamma = 0.9\n",
    "M = 100"
   ]
  },
  {
   "cell_type": "code",
   "execution_count": 25,
   "metadata": {},
   "outputs": [],
   "source": [
    "# Définition d'une grille\n",
    "width = 15\n",
    "height = 10\n",
    "cost = [1, 2, 3, 4]\n",
    "proba_mur = 0.1"
   ]
  },
  {
   "cell_type": "code",
   "execution_count": 29,
   "metadata": {},
   "outputs": [],
   "source": [
    "# Création de la grille \n",
    "g = pm.Grille(height, width, tab_cost = cost, p = p, proba_mur = proba_mur)"
   ]
  },
  {
   "cell_type": "code",
   "execution_count": 30,
   "metadata": {},
   "outputs": [],
   "source": [
    "# Visualisation de la grille avant de calculer la politique optimale\n",
    "v = pm.Visualisation(g, color)\n",
    "v.view(mode = \"couleur\") "
   ]
  },
  {
   "cell_type": "code",
   "execution_count": 31,
   "metadata": {},
   "outputs": [
    {
     "name": "stdout",
     "output_type": "stream",
     "text": [
      "Valeur de la fonction objectif (politiques pures) : 314.67213928861224\n",
      "Valeur de la fonction objectif (politiques mixtes) : 314.6721392886122\n",
      "Nombre d'itérations de l'itération de la valeur : 24\n"
     ]
    }
   ],
   "source": [
    "# Calcul de la stratégie optimale par programmation linéaire - politique pure\n",
    "strategy_pl_pure, val_pure = pm.pol_pl_pure(g, gamma = gamma, M = M)\n",
    "# Calcul de la stratégie optimale par programmation linéaire - politique mixte\n",
    "strategy_pl_mixte, val_mixte = pm.pol_pl_mixte(g, gamma = gamma, M = M)\n",
    "# Calcul de la stratégie optimale par itération de la valeur\n",
    "strategy_valeur, nb_iter = pm.pol_valeur(g, gamma = gamma, M = M)\n",
    "\n",
    "print(\"Valeur de la fonction objectif (politiques pures) :\", val_pure)\n",
    "print(\"Valeur de la fonction objectif (politiques mixtes) :\", val_mixte)\n",
    "print(\"Nombre d'itérations de l'itération de la valeur :\", nb_iter)"
   ]
  },
  {
   "cell_type": "code",
   "execution_count": 32,
   "metadata": {},
   "outputs": [],
   "source": [
    "# Affichage de la grille avec la stratégie par programmation linéaire en politique pure\n",
    "v.view(mode = \"couleur\", strategy = strategy_pl_pure)"
   ]
  },
  {
   "cell_type": "code",
   "execution_count": 33,
   "metadata": {},
   "outputs": [],
   "source": [
    "# Affichage de la grille avec la stratégie par itération de la valeur\n",
    "v.view(mode = \"couleur\", strategy = strategy_valeur)"
   ]
  },
  {
   "cell_type": "markdown",
   "metadata": {},
   "source": [
    "Il n'est pas possible de visualiser directement la stratégie mixte. Cependant, on peut l'afficher pour vérifier que, comme vu en cours, la stratégie mixte optimale correspond en effet à une stratégie pure : sur chaque case du tableau, la loi de probabilité sur les actions donne $100\\%$ de probabilité pour une action et $0$ pour les autres. Les seules exceptions sont les murs : la politique optimale n'y est pas calculée et, comme valeur par défaut, on y met une loi uniforme sur les quatre actions."
   ]
  },
  {
   "cell_type": "code",
   "execution_count": 34,
   "metadata": {},
   "outputs": [
    {
     "name": "stdout",
     "output_type": "stream",
     "text": [
      "[[[0.   0.   1.   0.  ]\n",
      "  [0.   0.   1.   0.  ]\n",
      "  [0.   0.   1.   0.  ]\n",
      "  [0.   0.   1.   0.  ]\n",
      "  [0.25 0.25 0.25 0.25]\n",
      "  [0.   0.   1.   0.  ]\n",
      "  [0.   0.   1.   0.  ]\n",
      "  [0.   0.   0.   1.  ]\n",
      "  [0.   0.   1.   0.  ]\n",
      "  [0.25 0.25 0.25 0.25]\n",
      "  [0.   1.   0.   0.  ]\n",
      "  [0.   1.   0.   0.  ]\n",
      "  [0.   0.   1.   0.  ]\n",
      "  [0.   0.   1.   0.  ]\n",
      "  [0.   0.   0.   1.  ]]\n",
      "\n",
      " [[0.   1.   0.   0.  ]\n",
      "  [0.   1.   0.   0.  ]\n",
      "  [0.   1.   0.   0.  ]\n",
      "  [0.   1.   0.   0.  ]\n",
      "  [0.   0.   1.   0.  ]\n",
      "  [0.   1.   0.   0.  ]\n",
      "  [0.   0.   1.   0.  ]\n",
      "  [0.   0.   0.   1.  ]\n",
      "  [0.   0.   0.   1.  ]\n",
      "  [0.25 0.25 0.25 0.25]\n",
      "  [0.   0.   1.   0.  ]\n",
      "  [0.25 0.25 0.25 0.25]\n",
      "  [0.   0.   1.   0.  ]\n",
      "  [0.   0.   0.   1.  ]\n",
      "  [0.   0.   0.   1.  ]]\n",
      "\n",
      " [[0.   0.   1.   0.  ]\n",
      "  [0.   1.   0.   0.  ]\n",
      "  [0.   0.   1.   0.  ]\n",
      "  [0.   0.   1.   0.  ]\n",
      "  [0.   0.   1.   0.  ]\n",
      "  [0.   1.   0.   0.  ]\n",
      "  [0.   0.   1.   0.  ]\n",
      "  [0.25 0.25 0.25 0.25]\n",
      "  [0.25 0.25 0.25 0.25]\n",
      "  [0.   1.   0.   0.  ]\n",
      "  [0.   0.   1.   0.  ]\n",
      "  [0.   1.   0.   0.  ]\n",
      "  [0.   0.   1.   0.  ]\n",
      "  [0.   0.   0.   1.  ]\n",
      "  [0.   0.   0.   1.  ]]\n",
      "\n",
      " [[0.   0.   1.   0.  ]\n",
      "  [0.   1.   0.   0.  ]\n",
      "  [0.   1.   0.   0.  ]\n",
      "  [0.   1.   0.   0.  ]\n",
      "  [0.   0.   1.   0.  ]\n",
      "  [0.   1.   0.   0.  ]\n",
      "  [0.   0.   1.   0.  ]\n",
      "  [0.   0.   1.   0.  ]\n",
      "  [0.25 0.25 0.25 0.25]\n",
      "  [0.25 0.25 0.25 0.25]\n",
      "  [0.   0.   1.   0.  ]\n",
      "  [0.   0.   1.   0.  ]\n",
      "  [0.   0.   1.   0.  ]\n",
      "  [0.   0.   0.   1.  ]\n",
      "  [0.   0.   1.   0.  ]]\n",
      "\n",
      " [[0.   1.   0.   0.  ]\n",
      "  [0.   1.   0.   0.  ]\n",
      "  [0.   0.   1.   0.  ]\n",
      "  [0.   1.   0.   0.  ]\n",
      "  [0.   0.   1.   0.  ]\n",
      "  [0.25 0.25 0.25 0.25]\n",
      "  [0.   1.   0.   0.  ]\n",
      "  [0.   1.   0.   0.  ]\n",
      "  [0.   0.   1.   0.  ]\n",
      "  [0.25 0.25 0.25 0.25]\n",
      "  [0.   1.   0.   0.  ]\n",
      "  [0.   0.   1.   0.  ]\n",
      "  [0.   0.   1.   0.  ]\n",
      "  [0.   0.   1.   0.  ]\n",
      "  [0.   0.   1.   0.  ]]\n",
      "\n",
      " [[0.25 0.25 0.25 0.25]\n",
      "  [0.   1.   0.   0.  ]\n",
      "  [0.   1.   0.   0.  ]\n",
      "  [0.   1.   0.   0.  ]\n",
      "  [0.   0.   1.   0.  ]\n",
      "  [0.   1.   0.   0.  ]\n",
      "  [0.   0.   1.   0.  ]\n",
      "  [0.25 0.25 0.25 0.25]\n",
      "  [0.   0.   1.   0.  ]\n",
      "  [0.25 0.25 0.25 0.25]\n",
      "  [0.   1.   0.   0.  ]\n",
      "  [0.   1.   0.   0.  ]\n",
      "  [0.   0.   1.   0.  ]\n",
      "  [0.   0.   0.   1.  ]\n",
      "  [0.   0.   0.   1.  ]]\n",
      "\n",
      " [[0.   0.   1.   0.  ]\n",
      "  [0.   0.   1.   0.  ]\n",
      "  [0.   0.   1.   0.  ]\n",
      "  [0.   1.   0.   0.  ]\n",
      "  [0.   0.   1.   0.  ]\n",
      "  [0.   1.   0.   0.  ]\n",
      "  [0.   0.   1.   0.  ]\n",
      "  [0.   1.   0.   0.  ]\n",
      "  [0.   0.   1.   0.  ]\n",
      "  [0.25 0.25 0.25 0.25]\n",
      "  [0.   0.   1.   0.  ]\n",
      "  [0.   1.   0.   0.  ]\n",
      "  [0.   0.   1.   0.  ]\n",
      "  [0.   0.   0.   1.  ]\n",
      "  [0.   0.   0.   1.  ]]\n",
      "\n",
      " [[0.   1.   0.   0.  ]\n",
      "  [0.   1.   0.   0.  ]\n",
      "  [0.   0.   1.   0.  ]\n",
      "  [0.   1.   0.   0.  ]\n",
      "  [0.   0.   1.   0.  ]\n",
      "  [0.25 0.25 0.25 0.25]\n",
      "  [0.   1.   0.   0.  ]\n",
      "  [0.   1.   0.   0.  ]\n",
      "  [0.   1.   0.   0.  ]\n",
      "  [0.   1.   0.   0.  ]\n",
      "  [0.   1.   0.   0.  ]\n",
      "  [0.   1.   0.   0.  ]\n",
      "  [0.   0.   1.   0.  ]\n",
      "  [0.25 0.25 0.25 0.25]\n",
      "  [0.25 0.25 0.25 0.25]]\n",
      "\n",
      " [[0.   1.   0.   0.  ]\n",
      "  [0.   1.   0.   0.  ]\n",
      "  [0.   1.   0.   0.  ]\n",
      "  [0.   1.   0.   0.  ]\n",
      "  [0.   0.   1.   0.  ]\n",
      "  [0.   1.   0.   0.  ]\n",
      "  [0.   1.   0.   0.  ]\n",
      "  [0.   1.   0.   0.  ]\n",
      "  [0.   1.   0.   0.  ]\n",
      "  [0.   1.   0.   0.  ]\n",
      "  [0.   0.   1.   0.  ]\n",
      "  [0.   1.   0.   0.  ]\n",
      "  [0.   0.   1.   0.  ]\n",
      "  [0.   1.   0.   0.  ]\n",
      "  [0.   0.   1.   0.  ]]\n",
      "\n",
      " [[0.   1.   0.   0.  ]\n",
      "  [0.   1.   0.   0.  ]\n",
      "  [0.   1.   0.   0.  ]\n",
      "  [0.   1.   0.   0.  ]\n",
      "  [0.   1.   0.   0.  ]\n",
      "  [0.   1.   0.   0.  ]\n",
      "  [0.   1.   0.   0.  ]\n",
      "  [0.   1.   0.   0.  ]\n",
      "  [0.   1.   0.   0.  ]\n",
      "  [0.   1.   0.   0.  ]\n",
      "  [0.   1.   0.   0.  ]\n",
      "  [0.   1.   0.   0.  ]\n",
      "  [0.   1.   0.   0.  ]\n",
      "  [0.   1.   0.   0.  ]\n",
      "  [0.   0.   1.   0.  ]]]\n"
     ]
    }
   ],
   "source": [
    "print(strategy_pl_mixte)"
   ]
  },
  {
   "cell_type": "markdown",
   "metadata": {},
   "source": [
    "On peut retrouver la stratégie pure correspondante à cette stratégie mixte en cherchant l'action qui maximise la probabilité, ce qui se fait facilement en `numpy` à l'aide de la méthode `argmax`. Il est alors possible de visualiser la stratégie pure ainsi obtenue."
   ]
  },
  {
   "cell_type": "code",
   "execution_count": 35,
   "metadata": {},
   "outputs": [],
   "source": [
    "# Affichage de la grille avec la stratégie par programmation linéaire en politique mixte : direction avec la probabilité maximale\n",
    "v.view(mode = \"couleur\", strategy = strategy_pl_mixte.argmax(2))"
   ]
  },
  {
   "cell_type": "markdown",
   "metadata": {},
   "source": [
    "### Temps d'exécution et valeurs de la fonction objectif"
   ]
  },
  {
   "cell_type": "code",
   "execution_count": 4,
   "metadata": {},
   "outputs": [],
   "source": [
    "qtt = 50\n",
    "tab_cost = [1, 2, 3, 4]\n",
    "proba_mur = 0.1\n",
    "repeat = 10\n",
    "M = 1000\n",
    "height = 10\n",
    "width = 15"
   ]
  },
  {
   "cell_type": "code",
   "execution_count": 5,
   "metadata": {},
   "outputs": [],
   "source": [
    "dict_temps_val = {(p, gamma, pol): None \\\n",
    "              for p in [0.6, 1]\\\n",
    "              for gamma in [0.5, 0.7, 0.9]\\\n",
    "              for pol in [\"pure\", \"mixte\"]}\n",
    "\n",
    "list_grille = []\n",
    "for _ in range(qtt):\n",
    "    # Il faut que la création d'une grille avec une case but atteignable soit possible (proba_mur pas trop grand)\n",
    "    while True:\n",
    "        grille = pm.Grille(height, width, tab_cost, 1, None, proba_mur)\n",
    "        if grille.est_possible():\n",
    "            list_grille.append(grille)\n",
    "            break"
   ]
  },
  {
   "cell_type": "code",
   "execution_count": 6,
   "metadata": {},
   "outputs": [
    {
     "name": "stderr",
     "output_type": "stream",
     "text": [
      "\r",
      "  0%|                                                                                           | 0/12 [00:00<?, ?it/s]"
     ]
    },
    {
     "name": "stdout",
     "output_type": "stream",
     "text": [
      "Using license file C:\\Users\\arian\\gurobi.lic\n",
      "Academic license - for non-commercial use only - expires 2021-02-09\n"
     ]
    },
    {
     "name": "stderr",
     "output_type": "stream",
     "text": [
      "100%|██████████████████████████████████████████████████████████████████████████████████| 12/12 [08:12<00:00, 41.07s/it]\n"
     ]
    }
   ],
   "source": [
    "for k in tqdm(dict_temps_val):\n",
    "    p, gamma, pol = k\n",
    "    fonction = getattr(pm, \"pol_pl_\" + pol)\n",
    "    for g in list_grille:\n",
    "        g.p = p\n",
    "    temps = pm.tester_temps(fonction, list_grille, repeat, gamma = gamma, M = M, mode = \"couleur\")\n",
    "    val_pol = pm.tester_iterations(fonction, list_grille, gamma = gamma, M = M, mode = \"couleur\")\n",
    "    dict_temps_val[k] = (temps, val_pol)"
   ]
  },
  {
   "cell_type": "code",
   "execution_count": 7,
   "metadata": {},
   "outputs": [
    {
     "name": "stdout",
     "output_type": "stream",
     "text": [
      "(0.6, 0.5, 'pure'): 151.6 46.0\n",
      "(0.6, 0.5, 'mixte'): 42.9 46.0\n",
      "(0.6, 0.7, 'pure'): 141.9 212.8\n",
      "(0.6, 0.7, 'mixte'): 42.2 212.8\n",
      "(0.6, 0.9, 'pure'): 136.0 3291.0\n",
      "(0.6, 0.9, 'mixte'): 45.3 3291.0\n",
      "(1, 0.5, 'pure'): 104.9 47.9\n",
      "(1, 0.5, 'mixte'): 38.6 47.9\n",
      "(1, 0.7, 'pure'): 105.3 218.3\n",
      "(1, 0.7, 'mixte'): 39.6 218.3\n",
      "(1, 0.9, 'pure'): 103.7 3320.4\n",
      "(1, 0.9, 'mixte'): 42.2 3320.4\n"
     ]
    }
   ],
   "source": [
    "for k in dict_temps_val:\n",
    "    temps, val_pol = dict_temps_val[k]\n",
    "    print(\"{}: {:.1f} {:.1f}\".format(k, temps*1000, val_pol))"
   ]
  },
  {
   "cell_type": "markdown",
   "metadata": {},
   "source": [
    "## 4. Recherche d'une trajectoire équilibrée"
   ]
  },
  {
   "cell_type": "markdown",
   "metadata": {},
   "source": [
    "### Exemple de calcul de stratégie pour la minimisation de la consommation totale de ressources"
   ]
  },
  {
   "cell_type": "code",
   "execution_count": 8,
   "metadata": {},
   "outputs": [],
   "source": [
    "p = 1\n",
    "gamma = 0.9\n",
    "M = 100"
   ]
  },
  {
   "cell_type": "code",
   "execution_count": 9,
   "metadata": {},
   "outputs": [],
   "source": [
    "# Définition d'une grille\n",
    "width = 10\n",
    "height = 10\n",
    "cost = [1, 2, 3, 4]\n",
    "proba_mur = 0.1"
   ]
  },
  {
   "cell_type": "code",
   "execution_count": 10,
   "metadata": {},
   "outputs": [],
   "source": [
    "# Création de la grille \n",
    "g = pm.Grille(height, width, tab_cost = cost, p = p, proba_mur = proba_mur)"
   ]
  },
  {
   "cell_type": "code",
   "execution_count": 11,
   "metadata": {},
   "outputs": [],
   "source": [
    "# Visualisation de la grille dans le mode \"chiffre\"\n",
    "v = pm.Visualisation(g, color)\n",
    "v.view(mode = \"chiffre\") "
   ]
  },
  {
   "cell_type": "code",
   "execution_count": 13,
   "metadata": {},
   "outputs": [],
   "source": [
    "# Calcul de la stratégie optimale par programmation linéaire - politique pure\n",
    "strategy_pl_pure, _ = pm.pol_pl_pure(g, gamma = gamma, M = M, mode = \"somme_chiffre\")\n",
    "# Calcul de la stratégie optimale par programmation linéaire - politique mixte\n",
    "strategy_pl_mixte, _ = pm.pol_pl_mixte(g, gamma = gamma, M = M, mode = \"somme_chiffre\")\n",
    "# Calcul de la stratégie optimale par itération de la valeur\n",
    "strategy_valeur, _ = pm.pol_valeur(g, gamma = gamma, M = M, mode = \"somme_chiffre\")"
   ]
  },
  {
   "cell_type": "code",
   "execution_count": 15,
   "metadata": {},
   "outputs": [],
   "source": [
    "# Affichage de la grille avec la stratégie par programmation linéaire en politique pure\n",
    "v.view(mode = \"chiffre\", strategy = strategy_pl_pure)"
   ]
  },
  {
   "cell_type": "code",
   "execution_count": 16,
   "metadata": {},
   "outputs": [],
   "source": [
    "# Affichage de la grille avec la stratégie par itération de la valeur\n",
    "v.view(mode = \"chiffre\", strategy = strategy_valeur)"
   ]
  },
  {
   "cell_type": "code",
   "execution_count": 17,
   "metadata": {},
   "outputs": [
    {
     "name": "stdout",
     "output_type": "stream",
     "text": [
      "[[[0.   1.   0.   0.  ]\n",
      "  [0.   1.   0.   0.  ]\n",
      "  [0.   0.   1.   0.  ]\n",
      "  [0.   0.   1.   0.  ]\n",
      "  [0.   1.   0.   0.  ]\n",
      "  [0.   0.   1.   0.  ]\n",
      "  [0.   1.   0.   0.  ]\n",
      "  [0.   0.   1.   0.  ]\n",
      "  [0.   0.   1.   0.  ]\n",
      "  [0.   0.   0.   1.  ]]\n",
      "\n",
      " [[0.25 0.25 0.25 0.25]\n",
      "  [0.   1.   0.   0.  ]\n",
      "  [0.   1.   0.   0.  ]\n",
      "  [0.   0.   1.   0.  ]\n",
      "  [0.   1.   0.   0.  ]\n",
      "  [0.   0.   1.   0.  ]\n",
      "  [0.   1.   0.   0.  ]\n",
      "  [0.   0.   1.   0.  ]\n",
      "  [0.   0.   1.   0.  ]\n",
      "  [0.25 0.25 0.25 0.25]]\n",
      "\n",
      " [[0.25 0.25 0.25 0.25]\n",
      "  [0.   1.   0.   0.  ]\n",
      "  [0.   1.   0.   0.  ]\n",
      "  [0.   1.   0.   0.  ]\n",
      "  [0.   0.   1.   0.  ]\n",
      "  [0.   0.   1.   0.  ]\n",
      "  [0.   0.   1.   0.  ]\n",
      "  [0.   1.   0.   0.  ]\n",
      "  [0.   0.   1.   0.  ]\n",
      "  [0.   0.   1.   0.  ]]\n",
      "\n",
      " [[0.   0.   1.   0.  ]\n",
      "  [0.   1.   0.   0.  ]\n",
      "  [0.   1.   0.   0.  ]\n",
      "  [0.   1.   0.   0.  ]\n",
      "  [0.   1.   0.   0.  ]\n",
      "  [0.   1.   0.   0.  ]\n",
      "  [0.   0.   1.   0.  ]\n",
      "  [0.   1.   0.   0.  ]\n",
      "  [0.   1.   0.   0.  ]\n",
      "  [0.   0.   1.   0.  ]]\n",
      "\n",
      " [[0.   0.   1.   0.  ]\n",
      "  [0.25 0.25 0.25 0.25]\n",
      "  [0.   0.   1.   0.  ]\n",
      "  [0.   1.   0.   0.  ]\n",
      "  [0.   1.   0.   0.  ]\n",
      "  [0.   0.   1.   0.  ]\n",
      "  [0.   0.   1.   0.  ]\n",
      "  [0.   0.   1.   0.  ]\n",
      "  [0.25 0.25 0.25 0.25]\n",
      "  [0.   0.   1.   0.  ]]\n",
      "\n",
      " [[0.   0.   1.   0.  ]\n",
      "  [0.   0.   1.   0.  ]\n",
      "  [0.   0.   1.   0.  ]\n",
      "  [0.   1.   0.   0.  ]\n",
      "  [0.   1.   0.   0.  ]\n",
      "  [0.   1.   0.   0.  ]\n",
      "  [0.   1.   0.   0.  ]\n",
      "  [0.   1.   0.   0.  ]\n",
      "  [0.   0.   1.   0.  ]\n",
      "  [0.   0.   1.   0.  ]]\n",
      "\n",
      " [[0.   0.   1.   0.  ]\n",
      "  [0.   0.   1.   0.  ]\n",
      "  [0.   0.   1.   0.  ]\n",
      "  [0.   0.   1.   0.  ]\n",
      "  [0.25 0.25 0.25 0.25]\n",
      "  [0.   1.   0.   0.  ]\n",
      "  [0.   0.   1.   0.  ]\n",
      "  [0.25 0.25 0.25 0.25]\n",
      "  [0.   0.   1.   0.  ]\n",
      "  [0.   0.   1.   0.  ]]\n",
      "\n",
      " [[0.   1.   0.   0.  ]\n",
      "  [0.   1.   0.   0.  ]\n",
      "  [0.   0.   1.   0.  ]\n",
      "  [0.   1.   0.   0.  ]\n",
      "  [0.   0.   1.   0.  ]\n",
      "  [0.   1.   0.   0.  ]\n",
      "  [0.   1.   0.   0.  ]\n",
      "  [0.   0.   1.   0.  ]\n",
      "  [0.   0.   1.   0.  ]\n",
      "  [0.   0.   1.   0.  ]]\n",
      "\n",
      " [[0.   1.   0.   0.  ]\n",
      "  [0.   1.   0.   0.  ]\n",
      "  [0.   1.   0.   0.  ]\n",
      "  [0.   1.   0.   0.  ]\n",
      "  [0.   1.   0.   0.  ]\n",
      "  [0.   0.   1.   0.  ]\n",
      "  [0.25 0.25 0.25 0.25]\n",
      "  [0.   0.   1.   0.  ]\n",
      "  [0.   0.   1.   0.  ]\n",
      "  [0.   0.   1.   0.  ]]\n",
      "\n",
      " [[0.   1.   0.   0.  ]\n",
      "  [0.   1.   0.   0.  ]\n",
      "  [0.   1.   0.   0.  ]\n",
      "  [0.   1.   0.   0.  ]\n",
      "  [0.   1.   0.   0.  ]\n",
      "  [0.   1.   0.   0.  ]\n",
      "  [0.   1.   0.   0.  ]\n",
      "  [0.   1.   0.   0.  ]\n",
      "  [0.   1.   0.   0.  ]\n",
      "  [0.   0.   1.   0.  ]]]\n"
     ]
    }
   ],
   "source": [
    "# Affichage de la politique mixte\n",
    "# Comme avant, dans chaque case, la loi de probabilité est certaine :\n",
    "# une seule action a probabilité 1, les autres ont probabilité 0 (sauf dans les murs)\n",
    "print(strategy_pl_mixte)"
   ]
  },
  {
   "cell_type": "code",
   "execution_count": 18,
   "metadata": {},
   "outputs": [],
   "source": [
    "# Affichage de la grille avec la stratégie par programmation linéaire en politique mixte (direction avec probabilité 1)\n",
    "v.view(mode = \"chiffre\", strategy = strategy_pl_mixte.argmax(2))"
   ]
  },
  {
   "cell_type": "markdown",
   "metadata": {},
   "source": [
    "### Exemple de calcul de stratégie pour la minimisation d'un critère équilibré"
   ]
  },
  {
   "cell_type": "code",
   "execution_count": 19,
   "metadata": {},
   "outputs": [],
   "source": [
    "# Calcul de la stratégie optimale par programmation linéaire - politique mixte\n",
    "strategy_pl_mixte_mo, _ = pm.pol_pl_mixte_mo(g, gamma = gamma, M = M)"
   ]
  },
  {
   "cell_type": "code",
   "execution_count": 20,
   "metadata": {},
   "outputs": [
    {
     "name": "stdout",
     "output_type": "stream",
     "text": [
      "[[[0.         1.         0.         0.        ]\n",
      "  [0.         1.         0.         0.        ]\n",
      "  [0.         0.         1.         0.        ]\n",
      "  [0.         0.         1.         0.        ]\n",
      "  [0.         1.         0.         0.        ]\n",
      "  [0.         0.         1.         0.        ]\n",
      "  [0.         1.         0.         0.        ]\n",
      "  [0.         0.         1.         0.        ]\n",
      "  [0.         0.         1.         0.        ]\n",
      "  [0.         0.         0.         1.        ]]\n",
      "\n",
      " [[0.25       0.25       0.25       0.25      ]\n",
      "  [0.         1.         0.         0.        ]\n",
      "  [0.         1.         0.         0.        ]\n",
      "  [0.         0.         1.         0.        ]\n",
      "  [0.         0.         1.         0.        ]\n",
      "  [0.         0.         1.         0.        ]\n",
      "  [0.         1.         0.         0.        ]\n",
      "  [0.         0.         1.         0.        ]\n",
      "  [0.         0.         1.         0.        ]\n",
      "  [0.25       0.25       0.25       0.25      ]]\n",
      "\n",
      " [[0.25       0.25       0.25       0.25      ]\n",
      "  [0.         1.         0.         0.        ]\n",
      "  [0.         1.         0.         0.        ]\n",
      "  [0.         1.         0.         0.        ]\n",
      "  [0.         0.14149901 0.85850099 0.        ]\n",
      "  [0.         0.         1.         0.        ]\n",
      "  [0.         1.         0.         0.        ]\n",
      "  [0.         1.         0.         0.        ]\n",
      "  [0.         0.         1.         0.        ]\n",
      "  [0.         0.         1.         0.        ]]\n",
      "\n",
      " [[0.         0.         1.         0.        ]\n",
      "  [0.         1.         0.         0.        ]\n",
      "  [0.         0.         1.         0.        ]\n",
      "  [0.         1.         0.         0.        ]\n",
      "  [0.         1.         0.         0.        ]\n",
      "  [0.         1.         0.         0.        ]\n",
      "  [0.         0.         1.         0.        ]\n",
      "  [0.         1.         0.         0.        ]\n",
      "  [0.         1.         0.         0.        ]\n",
      "  [0.         0.         1.         0.        ]]\n",
      "\n",
      " [[0.         0.         1.         0.        ]\n",
      "  [0.25       0.25       0.25       0.25      ]\n",
      "  [0.         0.         1.         0.        ]\n",
      "  [0.         1.         0.         0.        ]\n",
      "  [0.         1.         0.         0.        ]\n",
      "  [0.         1.         0.         0.        ]\n",
      "  [0.         0.         1.         0.        ]\n",
      "  [0.         0.         1.         0.        ]\n",
      "  [0.25       0.25       0.25       0.25      ]\n",
      "  [0.         0.         1.         0.        ]]\n",
      "\n",
      " [[0.         0.         1.         0.        ]\n",
      "  [0.         0.         1.         0.        ]\n",
      "  [0.         1.         0.         0.        ]\n",
      "  [0.         0.         1.         0.        ]\n",
      "  [0.         1.         0.         0.        ]\n",
      "  [0.         1.         0.         0.        ]\n",
      "  [0.         1.         0.         0.        ]\n",
      "  [0.         1.         0.         0.        ]\n",
      "  [0.         0.00199377 0.99800623 0.        ]\n",
      "  [0.         0.         1.         0.        ]]\n",
      "\n",
      " [[0.         0.         1.         0.        ]\n",
      "  [0.         0.         1.         0.        ]\n",
      "  [0.         0.         1.         0.        ]\n",
      "  [0.         0.         1.         0.        ]\n",
      "  [0.25       0.25       0.25       0.25      ]\n",
      "  [0.         0.         1.         0.        ]\n",
      "  [0.         0.         1.         0.        ]\n",
      "  [0.25       0.25       0.25       0.25      ]\n",
      "  [0.         1.         0.         0.        ]\n",
      "  [0.         0.         1.         0.        ]]\n",
      "\n",
      " [[0.         1.         0.         0.        ]\n",
      "  [0.         1.         0.         0.        ]\n",
      "  [0.         0.69692863 0.30307137 0.        ]\n",
      "  [0.         1.         0.         0.        ]\n",
      "  [0.         0.         1.         0.        ]\n",
      "  [0.         0.         1.         0.        ]\n",
      "  [0.         1.         0.         0.        ]\n",
      "  [0.         0.         1.         0.        ]\n",
      "  [0.         0.         1.         0.        ]\n",
      "  [0.         0.         1.         0.        ]]\n",
      "\n",
      " [[0.         1.         0.         0.        ]\n",
      "  [0.         1.         0.         0.        ]\n",
      "  [0.         1.         0.         0.        ]\n",
      "  [0.         1.         0.         0.        ]\n",
      "  [0.         1.         0.         0.        ]\n",
      "  [0.         0.         1.         0.        ]\n",
      "  [0.25       0.25       0.25       0.25      ]\n",
      "  [0.         1.         0.         0.        ]\n",
      "  [0.         0.         1.         0.        ]\n",
      "  [0.         0.         1.         0.        ]]\n",
      "\n",
      " [[0.         1.         0.         0.        ]\n",
      "  [0.         1.         0.         0.        ]\n",
      "  [0.         1.         0.         0.        ]\n",
      "  [0.         1.         0.         0.        ]\n",
      "  [0.         1.         0.         0.        ]\n",
      "  [0.         1.         0.         0.        ]\n",
      "  [0.         1.         0.         0.        ]\n",
      "  [0.         1.         0.         0.        ]\n",
      "  [0.         1.         0.         0.        ]\n",
      "  [0.         1.         0.         0.        ]]]\n"
     ]
    }
   ],
   "source": [
    "print(strategy_pl_mixte_mo)"
   ]
  },
  {
   "cell_type": "markdown",
   "metadata": {},
   "source": [
    "On observe maintenant qu'il y a des cases (qui ne sont pas des murs) où la stratégie optimale calculée n'est pas déterministe. On récupère l'indice de ces cases&nbsp;:"
   ]
  },
  {
   "cell_type": "code",
   "execution_count": 24,
   "metadata": {},
   "outputs": [
    {
     "name": "stdout",
     "output_type": "stream",
     "text": [
      "[(2, 4), (5, 8), (7, 2)]\n",
      "2 4 [0.         0.14149901 0.85850099 0.        ]\n",
      "5 8 [0.         0.00199377 0.99800623 0.        ]\n",
      "7 2 [0.         0.69692863 0.30307137 0.        ]\n"
     ]
    }
   ],
   "source": [
    "cases_non_deterministes = [(i, j) for i in range(height) \\\n",
    "                           for j in range(width) \\\n",
    "                           if g.tab[i, j] >= 0 and strategy_pl_mixte_mo[i, j, :].max() < 1]\n",
    "print(cases_non_deterministes)\n",
    "\n",
    "for i, j in cases_non_deterministes:\n",
    "    print(i, j, strategy_pl_mixte_mo[i, j, :])"
   ]
  },
  {
   "cell_type": "markdown",
   "metadata": {},
   "source": [
    "On peut visualiser la grille en indiquant par les flèches la direction de probabilité maximale&nbsp;:"
   ]
  },
  {
   "cell_type": "code",
   "execution_count": 23,
   "metadata": {},
   "outputs": [],
   "source": [
    "# Affichage de la grille avec la stratégie par programmation linéaire en politique mixte (direction avec probabilité maximale)\n",
    "v.view(mode = \"chiffre\", strategy = strategy_pl_mixte_mo.argmax(2))"
   ]
  },
  {
   "cell_type": "markdown",
   "metadata": {},
   "source": [
    "### Temps de résolution de la minimisation d'un critère équilibré"
   ]
  },
  {
   "cell_type": "code",
   "execution_count": 26,
   "metadata": {},
   "outputs": [
    {
     "name": "stderr",
     "output_type": "stream",
     "text": [
      "100%|██████████████████████████████████████████████████████████████████████████████████| 18/18 [08:01<00:00, 26.76s/it]\n"
     ]
    }
   ],
   "source": [
    "qtt = 50\n",
    "tab_cost = [1, 2, 3, 4]\n",
    "proba_mur = 0.1\n",
    "repeat = 10\n",
    "M = 100\n",
    "\n",
    "dict_temps = {(p, gamma, height, width): None \\\n",
    "              for p in [0.7, 1]\\\n",
    "              for gamma in [0.5, 0.7, 0.9]\\\n",
    "              for height, width in [(10, 10), (10, 15), (15, 20)]}\n",
    "\n",
    "dict_grilles = {}\n",
    "for height, width in [(10, 10), (10, 15), (15, 20)]:\n",
    "    dict_grilles[(height, width)] = []\n",
    "    for _ in range(qtt):\n",
    "        # Il faut que la création d'une grille avec une case but atteignable soit possible (proba_mur pas trop grand)\n",
    "        while True:\n",
    "            grille = pm.Grille(height, width, tab_cost, 1, None, proba_mur)\n",
    "            if grille.est_possible():\n",
    "                dict_grilles[(height, width)].append(grille)\n",
    "                break\n",
    "\n",
    "for k in tqdm(dict_temps):\n",
    "    p, gamma, height, width = k\n",
    "    list_grille = dict_grilles[(height, width)]\n",
    "    for g in list_grille:\n",
    "        g.p = p\n",
    "    temps = pm.tester_temps(pm.pol_pl_mixte_mo, list_grille, repeat, gamma = gamma, M = M)\n",
    "    dict_temps[k] = temps"
   ]
  },
  {
   "cell_type": "code",
   "execution_count": 27,
   "metadata": {},
   "outputs": [
    {
     "name": "stdout",
     "output_type": "stream",
     "text": [
      "(0.7, 0.5, 10, 10): 25.0\n",
      "(0.7, 0.5, 10, 15): 39.2\n",
      "(0.7, 0.5, 15, 20): 93.0\n",
      "(0.7, 0.7, 10, 10): 29.6\n",
      "(0.7, 0.7, 10, 15): 46.4\n",
      "(0.7, 0.7, 15, 20): 99.8\n",
      "(0.7, 0.9, 10, 10): 28.9\n",
      "(0.7, 0.9, 10, 15): 47.7\n",
      "(0.7, 0.9, 15, 20): 103.3\n",
      "(1, 0.5, 10, 10): 27.2\n",
      "(1, 0.5, 10, 15): 43.1\n",
      "(1, 0.5, 15, 20): 79.3\n",
      "(1, 0.7, 10, 10): 25.9\n",
      "(1, 0.7, 10, 15): 40.5\n",
      "(1, 0.7, 15, 20): 80.8\n",
      "(1, 0.9, 10, 10): 25.5\n",
      "(1, 0.9, 10, 15): 39.3\n",
      "(1, 0.9, 15, 20): 88.1\n"
     ]
    }
   ],
   "source": [
    "for k in dict_temps:\n",
    "    print(\"{}: {:.1f}\".format(k, dict_temps[k]*1000))"
   ]
  },
  {
   "cell_type": "markdown",
   "metadata": {},
   "source": [
    "### Performances moyennes de la minimisation équilibrée sur une instance test"
   ]
  },
  {
   "cell_type": "code",
   "execution_count": 102,
   "metadata": {},
   "outputs": [],
   "source": [
    "p = 0.7\n",
    "gamma = 0.9\n",
    "M = 10"
   ]
  },
  {
   "cell_type": "code",
   "execution_count": 103,
   "metadata": {},
   "outputs": [],
   "source": [
    "# Définition d'une grille\n",
    "width = 10\n",
    "height = 10\n",
    "cost = [1, 2, 3, 4]\n",
    "proba_mur = 0.1"
   ]
  },
  {
   "cell_type": "code",
   "execution_count": 104,
   "metadata": {},
   "outputs": [],
   "source": [
    "# Création de la grille \n",
    "g = pm.Grille(height, width, tab_cost = cost, p = p, proba_mur = proba_mur)"
   ]
  },
  {
   "cell_type": "code",
   "execution_count": 112,
   "metadata": {},
   "outputs": [],
   "source": [
    "# Visualisation de la grille dans le mode \"chiffre\"\n",
    "v = pm.Visualisation(g, color)\n",
    "v.view(mode = \"chiffre\") "
   ]
  },
  {
   "cell_type": "code",
   "execution_count": 106,
   "metadata": {},
   "outputs": [],
   "source": [
    "# Stratégie optimale et objectifs à l'optimum\n",
    "strategy_pl_mixte_mo, obj_val = pm.pol_pl_mixte_mo(g, gamma = gamma, M = M)"
   ]
  },
  {
   "cell_type": "code",
   "execution_count": 107,
   "metadata": {},
   "outputs": [
    {
     "name": "stdout",
     "output_type": "stream",
     "text": [
      "[33.16630431508746, 33.16630431508745, 34.986808785240285, 33.166304315087444]\n"
     ]
    }
   ],
   "source": [
    "print(obj_val)"
   ]
  },
  {
   "cell_type": "code",
   "execution_count": 111,
   "metadata": {},
   "outputs": [
    {
     "name": "stdout",
     "output_type": "stream",
     "text": [
      "[33.30141607 33.1663888  35.00643049 33.12479333]\n"
     ]
    }
   ],
   "source": [
    "qtt = 10000\n",
    "recompenses = np.zeros(len(g.tab_cost))\n",
    "for _ in range(qtt):\n",
    "    # Afin de pouvoir comparer avec la sortie de la fonction pol_pl_mixte_mo, on tire la position initiale du robot\n",
    "    # de façon aléatoire uniforme sur la grille, en évitant les cases impossibles\n",
    "    while True:\n",
    "        init_robot = (np.random.choice(height), np.random.choice(width))\n",
    "        if g.case_possible(*init_robot):\n",
    "            break\n",
    "    recompenses += pm.simulation(g, strategy_pl_mixte_mo,\\\n",
    "                                 gamma, M/(1-gamma), mode = \"chiffre\", init_robot = init_robot)\n",
    "recompenses /= qtt\n",
    "print(recompenses)"
   ]
  },
  {
   "cell_type": "markdown",
   "metadata": {},
   "source": [
    "### Comparaison entre la minimisation d'un critère équilibré et de la consommation totale"
   ]
  },
  {
   "cell_type": "code",
   "execution_count": 156,
   "metadata": {},
   "outputs": [],
   "source": [
    "p = 0.8\n",
    "gamma = 0.9\n",
    "M = 100"
   ]
  },
  {
   "cell_type": "code",
   "execution_count": 157,
   "metadata": {},
   "outputs": [],
   "source": [
    "# Création de trois grilles de tailles différentes, en garantissant qu'elles sont possibles\n",
    "cost = [1, 2, 3, 4]\n",
    "proba_mur = 0.1\n",
    "while True:\n",
    "    g1 = pm.Grille(10, 10, tab_cost = cost, p = p, proba_mur = proba_mur)\n",
    "    if g1.est_possible():\n",
    "        break\n",
    "while True:\n",
    "    g2 = pm.Grille(10, 15, tab_cost = cost, p = p, proba_mur = proba_mur)\n",
    "    if g2.est_possible():\n",
    "        break\n",
    "while True:\n",
    "    g3 = pm.Grille(15, 20, tab_cost = cost, p = p, proba_mur = proba_mur)\n",
    "    if g3.est_possible():\n",
    "        break"
   ]
  },
  {
   "cell_type": "code",
   "execution_count": 158,
   "metadata": {},
   "outputs": [],
   "source": [
    "_, obj_somme_1 = pm.pol_pl_mixte(g1, gamma = gamma, M = M, mode = \"somme_chiffre\")\n",
    "_, obj_somme_2 = pm.pol_pl_mixte(g2, gamma = gamma, M = M, mode = \"somme_chiffre\")\n",
    "_, obj_somme_3 = pm.pol_pl_mixte(g3, gamma = gamma, M = M, mode = \"somme_chiffre\")\n",
    "\n",
    "_, obj_min_1 = pm.pol_pl_mixte_mo(g1, gamma = gamma, M = M)\n",
    "_, obj_min_2 = pm.pol_pl_mixte_mo(g2, gamma = gamma, M = M)\n",
    "_, obj_min_3 = pm.pol_pl_mixte_mo(g3, gamma = gamma, M = M)"
   ]
  },
  {
   "cell_type": "code",
   "execution_count": 159,
   "metadata": {},
   "outputs": [
    {
     "name": "stdout",
     "output_type": "stream",
     "text": [
      "obj_somme_1 : [419.9334703321625, 422.2692489417241, 421.90517072316226, 419.7409411337596]\n",
      "obj_min_1 : [420.1719253471806, 420.8415986888808, 421.4793841099815, 420.17192534718066]\n",
      "\n",
      "obj_somme_2 : [329.83356184558613, 332.9454858420285, 330.42458864695556, 332.6531620473818]\n",
      "obj_min_2 : [330.6910826954012, 331.499025175324, 330.6910826954012, 331.2154099354383]\n",
      "\n",
      "obj_somme_3 : [210.840974964863, 212.03606978886967, 213.68220464683202, 210.00941246193173]\n",
      "obj_min_3 : [210.78640133186678, 211.58509696701705, 212.5015695519427, 210.78640133186678]\n",
      "\n"
     ]
    }
   ],
   "source": [
    "print(\"obj_somme_1 :\", obj_somme_1)\n",
    "print(\"obj_min_1 :\", obj_min_1, end = \"\\n\\n\")\n",
    "\n",
    "print(\"obj_somme_2 :\", obj_somme_2)\n",
    "print(\"obj_min_2 :\", obj_min_2, end = \"\\n\\n\")\n",
    "\n",
    "print(\"obj_somme_3 :\", obj_somme_3)\n",
    "print(\"obj_min_3 :\", obj_min_3, end = \"\\n\\n\")"
   ]
  },
  {
   "cell_type": "code",
   "execution_count": 160,
   "metadata": {},
   "outputs": [
    {
     "name": "stdout",
     "output_type": "stream",
     "text": [
      "obj_somme_1 : 1683.8488311308085\n",
      "obj_min_1 : 1682.6648334932236\n",
      "\n",
      "obj_somme_2 : 1325.8567983819519\n",
      "obj_min_2 : 1324.0966005015646\n",
      "\n",
      "obj_somme_3 : 846.5686618624964\n",
      "obj_min_3 : 845.6594691826933\n",
      "\n"
     ]
    }
   ],
   "source": [
    "print(\"obj_somme_1 :\", sum(obj_somme_1))\n",
    "print(\"obj_min_1 :\", sum(obj_min_1), end = \"\\n\\n\")\n",
    "\n",
    "print(\"obj_somme_2 :\", sum(obj_somme_2))\n",
    "print(\"obj_min_2 :\", sum(obj_min_2), end = \"\\n\\n\")\n",
    "\n",
    "print(\"obj_somme_3 :\", sum(obj_somme_3))\n",
    "print(\"obj_min_3 :\", sum(obj_min_3), end = \"\\n\\n\")"
   ]
  },
  {
   "cell_type": "code",
   "execution_count": 161,
   "metadata": {},
   "outputs": [
    {
     "name": "stdout",
     "output_type": "stream",
     "text": [
      "obj_somme_1 : 419.7409411337596\n",
      "obj_min_1 : 420.1719253471806\n",
      "\n",
      "obj_somme_2 : 329.83356184558613\n",
      "obj_min_2 : 330.6910826954012\n",
      "\n",
      "obj_somme_3 : 210.00941246193173\n",
      "obj_min_3 : 210.78640133186678\n",
      "\n"
     ]
    }
   ],
   "source": [
    "print(\"obj_somme_1 :\", min(obj_somme_1))\n",
    "print(\"obj_min_1 :\", min(obj_min_1), end = \"\\n\\n\")\n",
    "\n",
    "print(\"obj_somme_2 :\", min(obj_somme_2))\n",
    "print(\"obj_min_2 :\", min(obj_min_2), end = \"\\n\\n\")\n",
    "\n",
    "print(\"obj_somme_3 :\", min(obj_somme_3))\n",
    "print(\"obj_min_3 :\", min(obj_min_3), end = \"\\n\\n\")"
   ]
  },
  {
   "cell_type": "code",
   "execution_count": null,
   "metadata": {},
   "outputs": [],
   "source": []
  }
 ],
 "metadata": {
  "kernelspec": {
   "display_name": "Python 3",
   "language": "python",
   "name": "python3"
  },
  "language_info": {
   "codemirror_mode": {
    "name": "ipython",
    "version": 3
   },
   "file_extension": ".py",
   "mimetype": "text/x-python",
   "name": "python",
   "nbconvert_exporter": "python",
   "pygments_lexer": "ipython3",
   "version": "3.7.4"
  }
 },
 "nbformat": 4,
 "nbformat_minor": 4
}
